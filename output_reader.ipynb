{
 "cells": [
  {
   "cell_type": "code",
   "execution_count": 2,
   "metadata": {},
   "outputs": [
    {
     "data": {
      "text/html": [
       "<div>\n",
       "<style scoped>\n",
       "    .dataframe tbody tr th:only-of-type {\n",
       "        vertical-align: middle;\n",
       "    }\n",
       "\n",
       "    .dataframe tbody tr th {\n",
       "        vertical-align: top;\n",
       "    }\n",
       "\n",
       "    .dataframe thead th {\n",
       "        text-align: right;\n",
       "    }\n",
       "</style>\n",
       "<table border=\"1\" class=\"dataframe\">\n",
       "  <thead>\n",
       "    <tr style=\"text-align: right;\">\n",
       "      <th></th>\n",
       "      <th>file_containing_regex</th>\n",
       "      <th>line_beginning</th>\n",
       "      <th>line_ending</th>\n",
       "      <th>type_found</th>\n",
       "      <th>datetime_of_scan</th>\n",
       "    </tr>\n",
       "  </thead>\n",
       "  <tbody>\n",
       "    <tr>\n",
       "      <th>0</th>\n",
       "      <td>Bonds_select.txt</td>\n",
       "      <td>2</td>\n",
       "      <td>2</td>\n",
       "      <td>re.compile('(?i)SELECT\\\\s*\\\\*', re.IGNORECASE)</td>\n",
       "      <td>28/03/2022 16:13:00</td>\n",
       "    </tr>\n",
       "    <tr>\n",
       "      <th>1</th>\n",
       "      <td>Bonds_select.txt</td>\n",
       "      <td>7</td>\n",
       "      <td>7</td>\n",
       "      <td>re.compile('(?i)SELECT\\\\s*\\\\*', re.IGNORECASE)</td>\n",
       "      <td>28/03/2022 16:13:00</td>\n",
       "    </tr>\n",
       "    <tr>\n",
       "      <th>2</th>\n",
       "      <td>Bonds_select.txt</td>\n",
       "      <td>9</td>\n",
       "      <td>12</td>\n",
       "      <td>re.compile('(?i)SELECT\\\\s*\\\\*', re.IGNORECASE)</td>\n",
       "      <td>28/03/2022 16:13:00</td>\n",
       "    </tr>\n",
       "    <tr>\n",
       "      <th>3</th>\n",
       "      <td>Curve_decode.txt</td>\n",
       "      <td>2</td>\n",
       "      <td>2</td>\n",
       "      <td>re.compile('(?i)SELECT\\\\s*\\\\*', re.IGNORECASE)</td>\n",
       "      <td>28/03/2022 16:13:00</td>\n",
       "    </tr>\n",
       "    <tr>\n",
       "      <th>4</th>\n",
       "      <td>Curve_decode.txt</td>\n",
       "      <td>7</td>\n",
       "      <td>7</td>\n",
       "      <td>re.compile('(?i)SELECT\\\\s*\\\\*', re.IGNORECASE)</td>\n",
       "      <td>28/03/2022 16:13:00</td>\n",
       "    </tr>\n",
       "    <tr>\n",
       "      <th>5</th>\n",
       "      <td>Curve_decode.txt</td>\n",
       "      <td>9</td>\n",
       "      <td>12</td>\n",
       "      <td>re.compile('(?i)SELECT\\\\s*\\\\*', re.IGNORECASE)</td>\n",
       "      <td>28/03/2022 16:13:00</td>\n",
       "    </tr>\n",
       "  </tbody>\n",
       "</table>\n",
       "</div>"
      ],
      "text/plain": [
       "  file_containing_regex  line_beginning  line_ending  \\\n",
       "0      Bonds_select.txt               2            2   \n",
       "1      Bonds_select.txt               7            7   \n",
       "2      Bonds_select.txt               9           12   \n",
       "3      Curve_decode.txt               2            2   \n",
       "4      Curve_decode.txt               7            7   \n",
       "5      Curve_decode.txt               9           12   \n",
       "\n",
       "                                       type_found     datetime_of_scan  \n",
       "0  re.compile('(?i)SELECT\\\\s*\\\\*', re.IGNORECASE)  28/03/2022 16:13:00  \n",
       "1  re.compile('(?i)SELECT\\\\s*\\\\*', re.IGNORECASE)  28/03/2022 16:13:00  \n",
       "2  re.compile('(?i)SELECT\\\\s*\\\\*', re.IGNORECASE)  28/03/2022 16:13:00  \n",
       "3  re.compile('(?i)SELECT\\\\s*\\\\*', re.IGNORECASE)  28/03/2022 16:13:00  \n",
       "4  re.compile('(?i)SELECT\\\\s*\\\\*', re.IGNORECASE)  28/03/2022 16:13:00  \n",
       "5  re.compile('(?i)SELECT\\\\s*\\\\*', re.IGNORECASE)  28/03/2022 16:13:00  "
      ]
     },
     "execution_count": 2,
     "metadata": {},
     "output_type": "execute_result"
    }
   ],
   "source": [
    "import pandas as pd\n",
    "\n",
    "output = pd.read_csv('output_scan_results.csv', delimiter=';')\n",
    "\n",
    "output\n",
    "\n"
   ]
  }
 ],
 "metadata": {
  "interpreter": {
   "hash": "9a57693e20eee696fb6d9d30aa916638802ca5bb9418fbbc877328e9c5429c40"
  },
  "kernelspec": {
   "display_name": "Python 3.10.2 ('p310')",
   "language": "python",
   "name": "python3"
  },
  "language_info": {
   "codemirror_mode": {
    "name": "ipython",
    "version": 3
   },
   "file_extension": ".py",
   "mimetype": "text/x-python",
   "name": "python",
   "nbconvert_exporter": "python",
   "pygments_lexer": "ipython3",
   "version": "3.10.2"
  },
  "orig_nbformat": 4
 },
 "nbformat": 4,
 "nbformat_minor": 2
}
